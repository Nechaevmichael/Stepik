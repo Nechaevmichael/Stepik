{
 "cells": [
  {
   "cell_type": "code",
   "execution_count": 9,
   "metadata": {},
   "outputs": [
    {
     "name": "stdout",
     "output_type": "stream",
     "text": [
      "[1]\n",
      "1.0\n",
      "[1, 10]\n",
      "5.5\n"
     ]
    }
   ],
   "source": [
    "# Cоздайте функцию, подсчитывающую среднеарифметическое введённых значений\n",
    "\n",
    "def average_numbers():\n",
    "    numbers = []\n",
    "    def inner(number):\n",
    "        numbers.append(number)\n",
    "        print(numbers)\n",
    "        return sum(numbers) / len(numbers)\n",
    "    return inner\n",
    "\n",
    "d1 = average_numbers()\n",
    "print(d1(1))\n",
    "print(d1(10))"
   ]
  },
  {
   "cell_type": "code",
   "execution_count": 14,
   "metadata": {},
   "outputs": [
    {
     "name": "stdout",
     "output_type": "stream",
     "text": [
      "Сумма равна 10\n",
      "Количество элементов 1\n",
      "10.0\n",
      "Сумма равна 30\n",
      "Количество элементов 2\n",
      "15.0\n"
     ]
    }
   ],
   "source": [
    "def average_numbers():\n",
    "    sum = 0\n",
    "    count = 0\n",
    "\n",
    "    def inner(number):\n",
    "        nonlocal sum\n",
    "        nonlocal count\n",
    "        sum += number\n",
    "        count += 1\n",
    "        print('Сумма равна', sum)\n",
    "        print(\"Количество элементов\", count)\n",
    "        return sum / count\n",
    "    return inner\n",
    "\n",
    "d2 = average_numbers()\n",
    "print(d2(10))\n",
    "print(d2(20))"
   ]
  },
  {
   "cell_type": "code",
   "execution_count": 58,
   "metadata": {},
   "outputs": [
    {
     "name": "stdout",
     "output_type": "stream",
     "text": [
      "3.9300182834267616e-05\n"
     ]
    }
   ],
   "source": [
    "# Создайте функцию, которая будет подсчитывать разницу во времени между первым и последующим вызовом\n",
    "\n",
    "# from datetime import datetime\n",
    "from time import perf_counter\n",
    "\n",
    "def timer():\n",
    "    start = perf_counter()\n",
    "\n",
    "    def inner():\n",
    "        return perf_counter() - start\n",
    "    return inner\n",
    "\n",
    "q1 = timer()\n",
    "print(q1())\n"
   ]
  },
  {
   "cell_type": "code",
   "execution_count": 61,
   "metadata": {},
   "outputs": [
    {
     "name": "stdout",
     "output_type": "stream",
     "text": [
      "Функция add вызывалась 1 раз\n",
      "7\n",
      "Функция add вызывалась 2 раз\n",
      "40\n"
     ]
    }
   ],
   "source": [
    "# Написать функцию, которая подсчитывает сколько раз была вызвана заданная функция\n",
    "\n",
    "def add(a, b):\n",
    "    return a + b\n",
    "\n",
    "def counter(func):\n",
    "    count = 0\n",
    "    def inner(*args, **kwargs):\n",
    "        nonlocal count\n",
    "        count += 1\n",
    "        print(f'Функция {func.__name__} вызывалась {count} раз')\n",
    "        return func(*args, **kwargs)\n",
    "    return inner\n",
    "\n",
    "q = counter(add)\n",
    "print(q(2, 5))\n",
    "print(q(10, 30))"
   ]
  },
  {
   "cell_type": "code",
   "execution_count": 65,
   "metadata": {},
   "outputs": [
    {
     "name": "stdout",
     "output_type": "stream",
     "text": [
      "2 -1\n"
     ]
    }
   ],
   "source": [
    "# Внутри функции замыкания можно создавать несколько функций, которые будут вляить на вашу общую переменную. Давайте взглянем на следующий пример:\n",
    "\n",
    "def create_count():\n",
    "    count = 0\n",
    "\n",
    "    def increment(value: int = 1):\n",
    "        nonlocal count\n",
    "        count += value\n",
    "        return count\n",
    "    \n",
    "    def decrement(value: int = 1):\n",
    "        nonlocal count\n",
    "        count -= value\n",
    "        return count\n",
    "    \n",
    "    return increment, decrement\n",
    "\n",
    "inc_1, dec_1 = create_count()\n",
    "print(inc_1(2), dec_1(3))"
   ]
  }
 ],
 "metadata": {
  "kernelspec": {
   "display_name": "Python 3",
   "language": "python",
   "name": "python3"
  },
  "language_info": {
   "codemirror_mode": {
    "name": "ipython",
    "version": 3
   },
   "file_extension": ".py",
   "mimetype": "text/x-python",
   "name": "python",
   "nbconvert_exporter": "python",
   "pygments_lexer": "ipython3",
   "version": "3.10.4"
  },
  "orig_nbformat": 4,
  "vscode": {
   "interpreter": {
    "hash": "3bd13bc16400e16874b7ce28af58a129343287e94248a182c1f06fbb6b76ef8e"
   }
  }
 },
 "nbformat": 4,
 "nbformat_minor": 2
}
